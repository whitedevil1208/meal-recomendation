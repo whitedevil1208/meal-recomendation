{
 "cells": [
  {
   "cell_type": "code",
   "execution_count": 1,
   "metadata": {},
   "outputs": [],
   "source": [
    "import pandas as pd\n",
    "import re\n",
    "from sklearn.feature_extraction.text import TfidfVectorizer\n",
    "from sklearn.metrics.pairwise import cosine_similarity\n",
    "from nltk.corpus import stopwords\n",
    "from nltk.tokenize import word_tokenize"
   ]
  },
  {
   "cell_type": "code",
   "execution_count": 2,
   "metadata": {},
   "outputs": [],
   "source": [
    "df = pd.read_excel(r\"C:\\Users\\VIKRAM\\Downloads\\NLP DATASET.xlsx\")"
   ]
  },
  {
   "cell_type": "code",
   "execution_count": 3,
   "metadata": {},
   "outputs": [
    {
     "data": {
      "text/html": [
       "<div>\n",
       "<style scoped>\n",
       "    .dataframe tbody tr th:only-of-type {\n",
       "        vertical-align: middle;\n",
       "    }\n",
       "\n",
       "    .dataframe tbody tr th {\n",
       "        vertical-align: top;\n",
       "    }\n",
       "\n",
       "    .dataframe thead th {\n",
       "        text-align: right;\n",
       "    }\n",
       "</style>\n",
       "<table border=\"1\" class=\"dataframe\">\n",
       "  <thead>\n",
       "    <tr style=\"text-align: right;\">\n",
       "      <th></th>\n",
       "      <th>type</th>\n",
       "      <th>meal type</th>\n",
       "      <th>person type</th>\n",
       "      <th>diet type</th>\n",
       "      <th>recommend</th>\n",
       "    </tr>\n",
       "  </thead>\n",
       "  <tbody>\n",
       "    <tr>\n",
       "      <th>0</th>\n",
       "      <td>veg</td>\n",
       "      <td>breakfast</td>\n",
       "      <td>atheletic</td>\n",
       "      <td>high protein</td>\n",
       "      <td>panner salad with some brown bread,add some oa...</td>\n",
       "    </tr>\n",
       "    <tr>\n",
       "      <th>1</th>\n",
       "      <td>non veg</td>\n",
       "      <td>breakfast</td>\n",
       "      <td>normal</td>\n",
       "      <td>normal</td>\n",
       "      <td>idly or dosa or any type of breakfast</td>\n",
       "    </tr>\n",
       "    <tr>\n",
       "      <th>2</th>\n",
       "      <td>veg</td>\n",
       "      <td>breakfast</td>\n",
       "      <td>weight loss</td>\n",
       "      <td>low carb</td>\n",
       "      <td>fruits and panner,sugar free foods</td>\n",
       "    </tr>\n",
       "    <tr>\n",
       "      <th>3</th>\n",
       "      <td>non veg</td>\n",
       "      <td>breakfast</td>\n",
       "      <td>weight gain</td>\n",
       "      <td>high protein</td>\n",
       "      <td>eggs and chicken salad and some beetroot juice</td>\n",
       "    </tr>\n",
       "    <tr>\n",
       "      <th>4</th>\n",
       "      <td>non veg</td>\n",
       "      <td>lunch</td>\n",
       "      <td>atheletic</td>\n",
       "      <td>high protein</td>\n",
       "      <td>chicken breast and some vegetables like capsic...</td>\n",
       "    </tr>\n",
       "  </tbody>\n",
       "</table>\n",
       "</div>"
      ],
      "text/plain": [
       "      type   meal type  person type     diet type  \\\n",
       "0      veg   breakfast    atheletic  high protein   \n",
       "1  non veg   breakfast       normal        normal   \n",
       "2      veg   breakfast  weight loss      low carb   \n",
       "3  non veg  breakfast   weight gain  high protein   \n",
       "4  non veg       lunch    atheletic  high protein   \n",
       "\n",
       "                                           recommend  \n",
       "0  panner salad with some brown bread,add some oa...  \n",
       "1              idly or dosa or any type of breakfast  \n",
       "2                 fruits and panner,sugar free foods  \n",
       "3     eggs and chicken salad and some beetroot juice  \n",
       "4  chicken breast and some vegetables like capsic...  "
      ]
     },
     "execution_count": 3,
     "metadata": {},
     "output_type": "execute_result"
    }
   ],
   "source": [
    "df.head()"
   ]
  },
  {
   "cell_type": "code",
   "execution_count": 4,
   "metadata": {},
   "outputs": [
    {
     "data": {
      "text/html": [
       "<div>\n",
       "<style scoped>\n",
       "    .dataframe tbody tr th:only-of-type {\n",
       "        vertical-align: middle;\n",
       "    }\n",
       "\n",
       "    .dataframe tbody tr th {\n",
       "        vertical-align: top;\n",
       "    }\n",
       "\n",
       "    .dataframe thead th {\n",
       "        text-align: right;\n",
       "    }\n",
       "</style>\n",
       "<table border=\"1\" class=\"dataframe\">\n",
       "  <thead>\n",
       "    <tr style=\"text-align: right;\">\n",
       "      <th></th>\n",
       "      <th>type</th>\n",
       "      <th>meal type</th>\n",
       "      <th>person type</th>\n",
       "      <th>diet type</th>\n",
       "      <th>recommend</th>\n",
       "    </tr>\n",
       "  </thead>\n",
       "  <tbody>\n",
       "    <tr>\n",
       "      <th>15</th>\n",
       "      <td>non veg</td>\n",
       "      <td>lunch</td>\n",
       "      <td>weight gain</td>\n",
       "      <td>high protein</td>\n",
       "      <td>chicken curry or fry and rice and add some veg...</td>\n",
       "    </tr>\n",
       "    <tr>\n",
       "      <th>16</th>\n",
       "      <td>non veg</td>\n",
       "      <td>lunch</td>\n",
       "      <td>atheletic</td>\n",
       "      <td>high protein</td>\n",
       "      <td>chicken breast and some vegetables like capsic...</td>\n",
       "    </tr>\n",
       "    <tr>\n",
       "      <th>17</th>\n",
       "      <td>non veg</td>\n",
       "      <td>lunch</td>\n",
       "      <td>normal</td>\n",
       "      <td>normal</td>\n",
       "      <td>chicken curry or fry and rice and add some veg...</td>\n",
       "    </tr>\n",
       "    <tr>\n",
       "      <th>18</th>\n",
       "      <td>veg</td>\n",
       "      <td>dinner</td>\n",
       "      <td>weight loss</td>\n",
       "      <td>low carb</td>\n",
       "      <td>chapathi kurma milk</td>\n",
       "    </tr>\n",
       "    <tr>\n",
       "      <th>19</th>\n",
       "      <td>non veg</td>\n",
       "      <td>dinner</td>\n",
       "      <td>weight gain</td>\n",
       "      <td>high protein</td>\n",
       "      <td>chicken breast,salmon,one egg</td>\n",
       "    </tr>\n",
       "  </tbody>\n",
       "</table>\n",
       "</div>"
      ],
      "text/plain": [
       "       type meal type  person type     diet type  \\\n",
       "15  non veg     lunch  weight gain  high protein   \n",
       "16  non veg     lunch    atheletic  high protein   \n",
       "17  non veg     lunch       normal        normal   \n",
       "18      veg    dinner  weight loss      low carb   \n",
       "19  non veg    dinner  weight gain  high protein   \n",
       "\n",
       "                                            recommend  \n",
       "15  chicken curry or fry and rice and add some veg...  \n",
       "16  chicken breast and some vegetables like capsic...  \n",
       "17  chicken curry or fry and rice and add some veg...  \n",
       "18                                chapathi kurma milk  \n",
       "19                      chicken breast,salmon,one egg  "
      ]
     },
     "execution_count": 4,
     "metadata": {},
     "output_type": "execute_result"
    }
   ],
   "source": [
    "df.tail()"
   ]
  },
  {
   "cell_type": "code",
   "execution_count": 5,
   "metadata": {},
   "outputs": [
    {
     "data": {
      "text/plain": [
       "type           0\n",
       "meal type      0\n",
       "person type    0\n",
       "diet type      0\n",
       "recommend      0\n",
       "dtype: int64"
      ]
     },
     "execution_count": 5,
     "metadata": {},
     "output_type": "execute_result"
    }
   ],
   "source": [
    "df.isnull().sum()"
   ]
  },
  {
   "cell_type": "code",
   "execution_count": 6,
   "metadata": {},
   "outputs": [],
   "source": [
    "def preprocess_text(text):\n",
    "    # Convert to lowercase\n",
    "    text = text.lower()\n",
    "\n",
    "    text = re.sub(r'\\d+', '', text)\n",
    "    text = re.sub(r'[^\\w\\s]', '', text)\n",
    "    \n",
    "    words = word_tokenize(text)\n",
    "    \n",
    "    stop_words = set(stopwords.words('english'))\n",
    "    words = [word for word in words if word not in stop_words]\n",
    "    \n",
    "    return ' '.join(words)"
   ]
  },
  {
   "cell_type": "code",
   "execution_count": 7,
   "metadata": {},
   "outputs": [],
   "source": [
    "df['type'] = df['type'].apply(preprocess_text)\n",
    "df['meal type'] = df['meal type'].apply(preprocess_text)\n",
    "df['person type'] = df['person type'].apply(preprocess_text)\n",
    "df['diet type'] = df['diet type'].apply(preprocess_text)\n",
    "\n",
    "\n",
    "df['features'] = df['type'] + \" \" + df['meal type'] + \" \" + df['person type'] + \" \" + df['diet type']"
   ]
  },
  {
   "cell_type": "code",
   "execution_count": 8,
   "metadata": {},
   "outputs": [
    {
     "data": {
      "text/plain": [
       "0           veg breakfast atheletic high protein\n",
       "1                non veg breakfast normal normal\n",
       "2             veg breakfast weight loss low carb\n",
       "3     non veg breakfast weight gain high protein\n",
       "4           non veg lunch atheletic high protein\n",
       "5                    non veg lunch normal normal\n",
       "6             non veg lunch weight loss low carb\n",
       "7            non veg lunch weight gain high carb\n",
       "8              veg dinner atheletic high protein\n",
       "9                   non veg dinner normal normal\n",
       "10               veg dinner weight loss low carb\n",
       "11       non veg dinner weight gain high protein\n",
       "12      non veg breakfast atheletic high protein\n",
       "13                   veg breakfast normal normal\n",
       "14        non veg breakfast weight loss low carb\n",
       "15        non veg lunch weight gain high protein\n",
       "16          non veg lunch atheletic high protein\n",
       "17                   non veg lunch normal normal\n",
       "18               veg dinner weight loss low carb\n",
       "19       non veg dinner weight gain high protein\n",
       "Name: features, dtype: object"
      ]
     },
     "execution_count": 8,
     "metadata": {},
     "output_type": "execute_result"
    }
   ],
   "source": [
    "df['features']"
   ]
  },
  {
   "cell_type": "code",
   "execution_count": 9,
   "metadata": {},
   "outputs": [
    {
     "data": {
      "text/plain": [
       "<20x14 sparse matrix of type '<class 'numpy.float64'>'\n",
       "\twith 114 stored elements in Compressed Sparse Row format>"
      ]
     },
     "execution_count": 9,
     "metadata": {},
     "output_type": "execute_result"
    }
   ],
   "source": [
    "vectorizer = TfidfVectorizer()\n",
    "tfidf_matrix = vectorizer.fit_transform(df['features'])\n",
    "tfidf_matrix"
   ]
  },
  {
   "cell_type": "code",
   "execution_count": 10,
   "metadata": {},
   "outputs": [],
   "source": [
    "def recommend_food_nlp(meal_type, food_type, person_type, diet_type):\n",
    "    \n",
    "    food_type = preprocess_text(food_type)\n",
    "    meal_type = preprocess_text(meal_type)\n",
    "    person_type = preprocess_text(person_type)\n",
    "    diet_type = preprocess_text(diet_type)\n",
    "    \n",
    "    \n",
    "    user_input = f\"{food_type} {meal_type} {person_type} {diet_type}\"\n",
    "    \n",
    "    \n",
    "    user_tfidf = vectorizer.transform([user_input])\n",
    "    \n",
    "    \n",
    "    similarities = cosine_similarity(user_tfidf, tfidf_matrix)\n",
    "    \n",
    "    \n",
    "    idx = similarities.argsort()[0][-1]\n",
    "    \n",
    "    \n",
    "    return df['recommend'].iloc[idx]\n"
   ]
  },
  {
   "cell_type": "code",
   "execution_count": 11,
   "metadata": {},
   "outputs": [
    {
     "name": "stdout",
     "output_type": "stream",
     "text": [
      "Recommended food:  chicken breast,salmon,one egg\n"
     ]
    }
   ],
   "source": [
    "meal_type = input(\"Enter meal type (e.g., breakfast, lunch, dinner): \").strip()\n",
    "food_type = input(\"Enter food type (e.g., veg, non-veg): \").strip()\n",
    "person_type = input(\"Enter preferance type (e.g., athletic, normal, weight loss): \").strip()\n",
    "diet_type = input(\"Enter diet type (e.g., high protein, low carb): \").strip()\n",
    "\n",
    "recommendation = recommend_food_nlp(meal_type, food_type, person_type, diet_type)\n",
    "print(\"Recommended food:\", recommendation)\n"
   ]
  },
  {
   "cell_type": "markdown",
   "metadata": {},
   "source": [
    "interface"
   ]
  },
  {
   "cell_type": "code",
   "execution_count": 12,
   "metadata": {},
   "outputs": [],
   "source": [
    "import gradio as gr"
   ]
  },
  {
   "cell_type": "code",
   "execution_count": 13,
   "metadata": {},
   "outputs": [],
   "source": [
    "def recommend(meal_type, food_type, person_type, diet_type):\n",
    "    recommendation = recommend_food_nlp(meal_type, food_type, person_type, diet_type)\n",
    "    return f\"Recommended food: {recommendation}\""
   ]
  },
  {
   "cell_type": "code",
   "execution_count": 15,
   "metadata": {},
   "outputs": [
    {
     "name": "stdout",
     "output_type": "stream",
     "text": [
      "Running on local URL:  http://127.0.0.1:7861\n",
      "\n",
      "To create a public link, set `share=True` in `launch()`.\n"
     ]
    },
    {
     "data": {
      "text/html": [
       "<div><iframe src=\"http://127.0.0.1:7861/\" width=\"100%\" height=\"500\" allow=\"autoplay; camera; microphone; clipboard-read; clipboard-write;\" frameborder=\"0\" allowfullscreen></iframe></div>"
      ],
      "text/plain": [
       "<IPython.core.display.HTML object>"
      ]
     },
     "metadata": {},
     "output_type": "display_data"
    },
    {
     "data": {
      "text/plain": []
     },
     "execution_count": 15,
     "metadata": {},
     "output_type": "execute_result"
    }
   ],
   "source": [
    "interface = gr.Interface(\n",
    "    fn=recommend, \n",
    "    inputs=[\n",
    "        gr.Textbox(label=\"Meal Type (e.g., breakfast, lunch, dinner)\"),\n",
    "        gr.Textbox(label=\"Food Type (e.g., veg, non-veg)\"),\n",
    "        gr.Textbox(label=\"Preference Type (e.g., athletic, normal, weight loss)\"),\n",
    "        gr.Textbox(label=\"Diet Type (e.g., high protein, low carb)\")\n",
    "    ],\n",
    "    outputs=\"text\",  \n",
    "    title=\"Food Recommendation System\",\n",
    "    description=\"Enter your preferences to get a food recommendation based on your meal type, food type, person type, and diet type.\",\n",
    ")\n",
    "\n",
    "# Step 7: Launch the Gradio app\n",
    "interface.launch()\n"
   ]
  }
 ],
 "metadata": {
  "kernelspec": {
   "display_name": "Python 3",
   "language": "python",
   "name": "python3"
  },
  "language_info": {
   "codemirror_mode": {
    "name": "ipython",
    "version": 3
   },
   "file_extension": ".py",
   "mimetype": "text/x-python",
   "name": "python",
   "nbconvert_exporter": "python",
   "pygments_lexer": "ipython3",
   "version": "3.11.7"
  }
 },
 "nbformat": 4,
 "nbformat_minor": 2
}
