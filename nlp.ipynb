{
 "cells": [
  {
   "cell_type": "code",
   "execution_count": 1,
   "metadata": {},
   "outputs": [],
   "source": [
    "import pandas as pd\n",
    "import re\n",
    "from sklearn.feature_extraction.text import TfidfVectorizer\n",
    "from sklearn.metrics.pairwise import cosine_similarity\n",
    "from nltk.corpus import stopwords\n",
    "from nltk.tokenize import word_tokenize\n",
    "import nltk"
   ]
  },
  {
   "cell_type": "code",
   "execution_count": 2,
   "metadata": {},
   "outputs": [],
   "source": [
    "\n",
    "df_normal = pd.read_excel(r\"C:\\Users\\VIKRAM\\Downloads\\NLP DATASET.xlsx\")\n",
    "df_diseased = pd.read_excel(r\"C:\\Users\\VIKRAM\\Downloads\\nlp dieseases dataset.xlsx\")\n"
   ]
  },
  {
   "cell_type": "code",
   "execution_count": 3,
   "metadata": {},
   "outputs": [
    {
     "data": {
      "text/html": [
       "<div>\n",
       "<style scoped>\n",
       "    .dataframe tbody tr th:only-of-type {\n",
       "        vertical-align: middle;\n",
       "    }\n",
       "\n",
       "    .dataframe tbody tr th {\n",
       "        vertical-align: top;\n",
       "    }\n",
       "\n",
       "    .dataframe thead th {\n",
       "        text-align: right;\n",
       "    }\n",
       "</style>\n",
       "<table border=\"1\" class=\"dataframe\">\n",
       "  <thead>\n",
       "    <tr style=\"text-align: right;\">\n",
       "      <th></th>\n",
       "      <th>type</th>\n",
       "      <th>meal type</th>\n",
       "      <th>person type</th>\n",
       "      <th>diet type</th>\n",
       "      <th>recommend</th>\n",
       "    </tr>\n",
       "  </thead>\n",
       "  <tbody>\n",
       "    <tr>\n",
       "      <th>0</th>\n",
       "      <td>veg</td>\n",
       "      <td>breakfast</td>\n",
       "      <td>atheletic</td>\n",
       "      <td>high protein</td>\n",
       "      <td>panner salad with some brown bread,add some oa...</td>\n",
       "    </tr>\n",
       "    <tr>\n",
       "      <th>1</th>\n",
       "      <td>non veg</td>\n",
       "      <td>breakfast</td>\n",
       "      <td>normal</td>\n",
       "      <td>normal</td>\n",
       "      <td>idly or dosa or any type of breakfast</td>\n",
       "    </tr>\n",
       "    <tr>\n",
       "      <th>2</th>\n",
       "      <td>veg</td>\n",
       "      <td>breakfast</td>\n",
       "      <td>weight loss</td>\n",
       "      <td>low carb</td>\n",
       "      <td>fruits and panner,sugar free foods</td>\n",
       "    </tr>\n",
       "    <tr>\n",
       "      <th>3</th>\n",
       "      <td>non veg</td>\n",
       "      <td>breakfast</td>\n",
       "      <td>weight gain</td>\n",
       "      <td>high protein</td>\n",
       "      <td>eggs and chicken salad and some beetroot juice</td>\n",
       "    </tr>\n",
       "    <tr>\n",
       "      <th>4</th>\n",
       "      <td>non veg</td>\n",
       "      <td>lunch</td>\n",
       "      <td>atheletic</td>\n",
       "      <td>high protein</td>\n",
       "      <td>chicken breast and some vegetables like capsic...</td>\n",
       "    </tr>\n",
       "  </tbody>\n",
       "</table>\n",
       "</div>"
      ],
      "text/plain": [
       "      type   meal type  person type     diet type  \\\n",
       "0      veg   breakfast    atheletic  high protein   \n",
       "1  non veg   breakfast       normal        normal   \n",
       "2      veg   breakfast  weight loss      low carb   \n",
       "3  non veg  breakfast   weight gain  high protein   \n",
       "4  non veg       lunch    atheletic  high protein   \n",
       "\n",
       "                                           recommend  \n",
       "0  panner salad with some brown bread,add some oa...  \n",
       "1              idly or dosa or any type of breakfast  \n",
       "2                 fruits and panner,sugar free foods  \n",
       "3     eggs and chicken salad and some beetroot juice  \n",
       "4  chicken breast and some vegetables like capsic...  "
      ]
     },
     "execution_count": 3,
     "metadata": {},
     "output_type": "execute_result"
    }
   ],
   "source": [
    "df_normal.head()"
   ]
  },
  {
   "cell_type": "code",
   "execution_count": 4,
   "metadata": {},
   "outputs": [
    {
     "data": {
      "text/plain": [
       "type           0\n",
       "meal type      0\n",
       "person type    0\n",
       "diet type      0\n",
       "recommend      0\n",
       "dtype: int64"
      ]
     },
     "execution_count": 4,
     "metadata": {},
     "output_type": "execute_result"
    }
   ],
   "source": [
    "df_normal.isnull().sum()"
   ]
  },
  {
   "cell_type": "code",
   "execution_count": 5,
   "metadata": {},
   "outputs": [
    {
     "data": {
      "text/html": [
       "<div>\n",
       "<style scoped>\n",
       "    .dataframe tbody tr th:only-of-type {\n",
       "        vertical-align: middle;\n",
       "    }\n",
       "\n",
       "    .dataframe tbody tr th {\n",
       "        vertical-align: top;\n",
       "    }\n",
       "\n",
       "    .dataframe thead th {\n",
       "        text-align: right;\n",
       "    }\n",
       "</style>\n",
       "<table border=\"1\" class=\"dataframe\">\n",
       "  <thead>\n",
       "    <tr style=\"text-align: right;\">\n",
       "      <th></th>\n",
       "      <th>type</th>\n",
       "      <th>meal type</th>\n",
       "      <th>disease type</th>\n",
       "      <th>recommend</th>\n",
       "    </tr>\n",
       "  </thead>\n",
       "  <tbody>\n",
       "    <tr>\n",
       "      <th>0</th>\n",
       "      <td>veg</td>\n",
       "      <td>breakfast</td>\n",
       "      <td>fever</td>\n",
       "      <td>Idli with ginger chutney; warm lemon water</td>\n",
       "    </tr>\n",
       "    <tr>\n",
       "      <th>1</th>\n",
       "      <td>non veg</td>\n",
       "      <td>breakfast</td>\n",
       "      <td>fever</td>\n",
       "      <td>Masala omelette with toast; ginger tea.</td>\n",
       "    </tr>\n",
       "    <tr>\n",
       "      <th>2</th>\n",
       "      <td>veg</td>\n",
       "      <td>lunch</td>\n",
       "      <td>fever</td>\n",
       "      <td>Vegetable khichdi; light vegetable soup</td>\n",
       "    </tr>\n",
       "    <tr>\n",
       "      <th>3</th>\n",
       "      <td>non veg</td>\n",
       "      <td>lunch</td>\n",
       "      <td>fever</td>\n",
       "      <td>Chicken soup; boiled rice with steamed vegetab...</td>\n",
       "    </tr>\n",
       "    <tr>\n",
       "      <th>4</th>\n",
       "      <td>veg</td>\n",
       "      <td>dinner</td>\n",
       "      <td>fever</td>\n",
       "      <td>Palak dal with rice; warm turmeric milk.</td>\n",
       "    </tr>\n",
       "  </tbody>\n",
       "</table>\n",
       "</div>"
      ],
      "text/plain": [
       "      type  meal type disease type  \\\n",
       "0      veg  breakfast        fever   \n",
       "1  non veg  breakfast        fever   \n",
       "2      veg      lunch        fever   \n",
       "3  non veg      lunch        fever   \n",
       "4      veg     dinner        fever   \n",
       "\n",
       "                                           recommend  \n",
       "0         Idli with ginger chutney; warm lemon water  \n",
       "1            Masala omelette with toast; ginger tea.  \n",
       "2            Vegetable khichdi; light vegetable soup  \n",
       "3  Chicken soup; boiled rice with steamed vegetab...  \n",
       "4           Palak dal with rice; warm turmeric milk.  "
      ]
     },
     "execution_count": 5,
     "metadata": {},
     "output_type": "execute_result"
    }
   ],
   "source": [
    "df_diseased.head()"
   ]
  },
  {
   "cell_type": "code",
   "execution_count": 6,
   "metadata": {},
   "outputs": [
    {
     "data": {
      "text/plain": [
       "type            0\n",
       "meal type       0\n",
       "disease type    0\n",
       "recommend       0\n",
       "dtype: int64"
      ]
     },
     "execution_count": 6,
     "metadata": {},
     "output_type": "execute_result"
    }
   ],
   "source": [
    "df_diseased.isnull().sum()"
   ]
  },
  {
   "cell_type": "code",
   "execution_count": 7,
   "metadata": {},
   "outputs": [],
   "source": [
    "\n",
    "def preprocess_text(text):\n",
    "   \n",
    "    text = text.lower()\n",
    "    \n",
    "   \n",
    "    text = re.sub(r'\\d+', '', text)\n",
    "    text = re.sub(r'[^\\w\\s]', '', text)\n",
    "    \n",
    "    \n",
    "    words = word_tokenize(text)\n",
    "    \n",
    " \n",
    "    stop_words = set(stopwords.words('english'))\n",
    "    words = [word for word in words if word not in stop_words]\n",
    "    \n",
    "   \n",
    "    return ' '.join(words)\n"
   ]
  },
  {
   "cell_type": "code",
   "execution_count": 8,
   "metadata": {},
   "outputs": [],
   "source": [
    "\n",
    "df_normal['type'] = df_normal['type'].apply(preprocess_text)\n",
    "df_normal['meal type'] = df_normal['meal type'].apply(preprocess_text)\n",
    "df_normal['person type'] = df_normal['person type'].apply(preprocess_text)\n",
    "df_normal['diet type'] = df_normal['diet type'].apply(preprocess_text)"
   ]
  },
  {
   "cell_type": "code",
   "execution_count": 9,
   "metadata": {},
   "outputs": [],
   "source": [
    "df_diseased['type'] = df_diseased['type'].apply(preprocess_text)\n",
    "df_diseased['meal type'] = df_diseased['meal type'].apply(preprocess_text)\n",
    "df_diseased['disease type'] = df_diseased['disease type'].apply(preprocess_text)"
   ]
  },
  {
   "cell_type": "code",
   "execution_count": 10,
   "metadata": {},
   "outputs": [],
   "source": [
    "df_normal['features'] = df_normal['type'] + \" \" + df_normal['meal type'] + \" \" + df_normal['person type'] + \" \" + df_normal['diet type']\n",
    "df_diseased['features'] = df_diseased['type'] + \" \" + df_diseased['meal type'] + \" \" + df_diseased['disease type']"
   ]
  },
  {
   "cell_type": "code",
   "execution_count": 11,
   "metadata": {},
   "outputs": [
    {
     "data": {
      "text/plain": [
       "0           veg breakfast atheletic high protein\n",
       "1                non veg breakfast normal normal\n",
       "2             veg breakfast weight loss low carb\n",
       "3     non veg breakfast weight gain high protein\n",
       "4           non veg lunch atheletic high protein\n",
       "5                    non veg lunch normal normal\n",
       "6             non veg lunch weight loss low carb\n",
       "7            non veg lunch weight gain high carb\n",
       "8              veg dinner atheletic high protein\n",
       "9                   non veg dinner normal normal\n",
       "10               veg dinner weight loss low carb\n",
       "11       non veg dinner weight gain high protein\n",
       "12                veg breakfast atheletic normal\n",
       "13                   veg breakfast normal normal\n",
       "14        non veg breakfast weight loss low carb\n",
       "15        non veg lunch weight gain high protein\n",
       "16          non veg lunch atheletic high protein\n",
       "17                   non veg lunch normal normal\n",
       "18               veg dinner weight loss low carb\n",
       "19       non veg dinner weight gain high protein\n",
       "Name: features, dtype: object"
      ]
     },
     "execution_count": 11,
     "metadata": {},
     "output_type": "execute_result"
    }
   ],
   "source": [
    "df_normal['features']"
   ]
  },
  {
   "cell_type": "code",
   "execution_count": 12,
   "metadata": {},
   "outputs": [
    {
     "data": {
      "text/plain": [
       "0         veg breakfast fever\n",
       "1     non veg breakfast fever\n",
       "2             veg lunch fever\n",
       "3         non veg lunch fever\n",
       "4            veg dinner fever\n",
       "               ...           \n",
       "73       veg breakfast dengue\n",
       "74        nonveg lunch dengue\n",
       "75           veg lunch dengue\n",
       "76      non veg dinner dengue\n",
       "77          veg dinner dengue\n",
       "Name: features, Length: 78, dtype: object"
      ]
     },
     "execution_count": 12,
     "metadata": {},
     "output_type": "execute_result"
    }
   ],
   "source": [
    "df_diseased['features']"
   ]
  },
  {
   "cell_type": "code",
   "execution_count": 13,
   "metadata": {},
   "outputs": [],
   "source": [
    "\n",
    "vectorizer_normal = TfidfVectorizer()\n",
    "vectorizer_diseased = TfidfVectorizer()\n",
    "\n",
    "tfidf_matrix_normal = vectorizer_normal.fit_transform(df_normal['features'])\n",
    "tfidf_matrix_diseased = vectorizer_diseased.fit_transform(df_diseased['features'])\n"
   ]
  },
  {
   "cell_type": "code",
   "execution_count": 14,
   "metadata": {},
   "outputs": [
    {
     "data": {
      "text/plain": [
       "<20x14 sparse matrix of type '<class 'numpy.float64'>'\n",
       "\twith 112 stored elements in Compressed Sparse Row format>"
      ]
     },
     "execution_count": 14,
     "metadata": {},
     "output_type": "execute_result"
    }
   ],
   "source": [
    "tfidf_matrix_normal"
   ]
  },
  {
   "cell_type": "code",
   "execution_count": 15,
   "metadata": {},
   "outputs": [
    {
     "data": {
      "text/plain": [
       "<78x21 sparse matrix of type '<class 'numpy.float64'>'\n",
       "\twith 272 stored elements in Compressed Sparse Row format>"
      ]
     },
     "execution_count": 15,
     "metadata": {},
     "output_type": "execute_result"
    }
   ],
   "source": [
    "tfidf_matrix_diseased"
   ]
  },
  {
   "cell_type": "code",
   "execution_count": 16,
   "metadata": {},
   "outputs": [],
   "source": [
    "def recommend_food_nlp(diet_preference, **kwargs):\n",
    "    if diet_preference == \"normal\":\n",
    "      \n",
    "        food_type = preprocess_text(kwargs.get('food_type'))\n",
    "        meal_type = preprocess_text(kwargs.get('meal_type'))\n",
    "        person_type = preprocess_text(kwargs.get('person_type'))\n",
    "        diet_type = preprocess_text(kwargs.get('diet_type'))\n",
    "        user_input = f\"{food_type} {meal_type} {person_type} {diet_type}\"\n",
    "        \n",
    "       \n",
    "        user_tfidf = vectorizer_normal.transform([user_input])\n",
    "        \n",
    "        similarities = cosine_similarity(user_tfidf, tfidf_matrix_normal)\n",
    "        idx = similarities.argsort()[0][-1]\n",
    "        \n",
    "        \n",
    "        return df_normal['recommend'].iloc[idx]\n",
    "    \n",
    "    elif diet_preference == \"diseased\":\n",
    "      \n",
    "        type_ = preprocess_text(kwargs.get('type'))\n",
    "        meal_type = preprocess_text(kwargs.get('meal_type'))\n",
    "        disease_type = preprocess_text(kwargs.get('disease_type'))\n",
    "        user_input = f\"{type_} {meal_type} {disease_type}\"\n",
    "        \n",
    "    \n",
    "        user_tfidf = vectorizer_diseased.transform([user_input])\n",
    "        \n",
    "  \n",
    "        similarities = cosine_similarity(user_tfidf, tfidf_matrix_diseased)\n",
    "        idx = similarities.argsort()[0][-1]\n",
    "        \n",
    "        \n",
    "        return df_diseased['recommend'].iloc[idx]\n",
    "    \n",
    "    else:\n",
    "        return \"Invalid diet preference. Choose 'normal' or 'diseased'.\"\n"
   ]
  },
  {
   "cell_type": "code",
   "execution_count": 17,
   "metadata": {},
   "outputs": [
    {
     "name": "stdout",
     "output_type": "stream",
     "text": [
      "Recommended food: eggs and chicken salad and some beetroot juice\n"
     ]
    }
   ],
   "source": [
    "\n",
    "diet_preference = input(\"Would you like a 'normal' or 'diseased' diet recommendation? \").strip().lower()\n",
    "\n",
    "if diet_preference == \"normal\":\n",
    "    meal_type = input(\"Enter the meal type (e.g., breakfast, lunch, dinner): \").strip().lower()\n",
    "    food_type = input(\"Enter the food type (e.g., veg, non-veg): \").strip().lower()\n",
    "    person_type = input(\"Enter the person type (e.g., athletic, elderly, etc.): \").strip().lower()\n",
    "    diet_type = input(\"Enter the diet type (e.g., high protein, low carb, etc.): \").strip().lower()\n",
    "    \n",
    "\n",
    "    recommendation = recommend_food_nlp(diet_preference, meal_type=meal_type, food_type=food_type, person_type=person_type, diet_type=diet_type)\n",
    "    print(\"Recommended food:\", recommendation)\n",
    "\n",
    "elif diet_preference == \"diseased\":\n",
    "    type_ = input(\"Enter the food type (e.g., veg, non-veg): \").strip().lower()\n",
    "    meal_type = input(\"Enter the meal type (e.g., breakfast, lunch, dinner): \").strip().lower()\n",
    "    disease_type = input(\"Enter the disease type (e.g., diabetes, hypertension): \").strip().lower()\n",
    "    \n",
    " \n",
    "    recommendation = recommend_food_nlp(diet_preference, type=type_, meal_type=meal_type, disease_type=disease_type)\n",
    "    print(\"Recommended food:\", recommendation)\n",
    "    \n",
    "else:\n",
    "    print(\"Invalid input. Please restart and enter 'normal' or 'diseased' for diet preference.\")\n"
   ]
  },
  {
   "cell_type": "markdown",
   "metadata": {},
   "source": [
    "BASIC GUI REPRESENTATION OF OUR PROJECT"
   ]
  },
  {
   "cell_type": "code",
   "execution_count": 1,
   "metadata": {},
   "outputs": [],
   "source": [
    "import pandas as pd\n",
    "import re\n",
    "from sklearn.feature_extraction.text import TfidfVectorizer\n",
    "from sklearn.metrics.pairwise import cosine_similarity\n",
    "from nltk.corpus import stopwords\n",
    "from nltk.tokenize import word_tokenize\n",
    "import tkinter as tk\n",
    "from tkinter import ttk, messagebox\n",
    "\n",
    "df_normal = pd.read_excel(r\"C:\\Users\\VIKRAM\\Downloads\\NLP DATASET.xlsx\")\n",
    "df_diseased = pd.read_excel(r\"C:\\Users\\VIKRAM\\Downloads\\nlp dieseases dataset.xlsx\")\n",
    "\n",
    "\n",
    "def preprocess_text(text):\n",
    "    text = text.lower()\n",
    "    text = re.sub(r'\\d+', '', text)\n",
    "    text = re.sub(r'[^\\w\\s]', '', text)\n",
    "    words = word_tokenize(text)\n",
    "    stop_words = set(stopwords.words('english'))\n",
    "    words = [word for word in words if word not in stop_words]\n",
    "    return ' '.join(words)\n",
    "\n",
    "\n",
    "df_normal['features'] = df_normal['type'].apply(preprocess_text) + \" \" + df_normal['meal type'].apply(preprocess_text) + \" \" + \\\n",
    "                        df_normal['person type'].apply(preprocess_text) + \" \" + df_normal['diet type'].apply(preprocess_text)\n",
    "df_diseased['features'] = df_diseased['type'].apply(preprocess_text) + \" \" + df_diseased['meal type'].apply(preprocess_text) + \" \" + \\\n",
    "                          df_diseased['disease type'].apply(preprocess_text)\n",
    "\n",
    "\n",
    "vectorizer_normal = TfidfVectorizer()\n",
    "vectorizer_diseased = TfidfVectorizer()\n",
    "tfidf_matrix_normal = vectorizer_normal.fit_transform(df_normal['features'])\n",
    "tfidf_matrix_diseased = vectorizer_diseased.fit_transform(df_diseased['features'])\n",
    "\n",
    "\n",
    "def recommend_food_nlp(diet_preference, **kwargs):\n",
    "    if diet_preference == \"normal\":\n",
    "        user_input = f\"{preprocess_text(kwargs.get('food_type'))} {preprocess_text(kwargs.get('meal_type'))} {preprocess_text(kwargs.get('person_type'))} {preprocess_text(kwargs.get('diet_type'))}\"\n",
    "        user_tfidf = vectorizer_normal.transform([user_input])\n",
    "        similarities = cosine_similarity(user_tfidf, tfidf_matrix_normal)\n",
    "        idx = similarities.argsort()[0][-1]\n",
    "        return df_normal['recommend'].iloc[idx]\n",
    "    \n",
    "    elif diet_preference == \"diseased\":\n",
    "        user_input = f\"{preprocess_text(kwargs.get('type'))} {preprocess_text(kwargs.get('meal_type'))} {preprocess_text(kwargs.get('disease_type'))}\"\n",
    "        user_tfidf = vectorizer_diseased.transform([user_input])\n",
    "        similarities = cosine_similarity(user_tfidf, tfidf_matrix_diseased)\n",
    "        idx = similarities.argsort()[0][-1]\n",
    "        return df_diseased['recommend'].iloc[idx]\n",
    "\n",
    "\n",
    "def on_submit():\n",
    "    diet_pref = diet_preference.get()\n",
    "    if diet_pref == \"normal\":\n",
    "        recommendation = recommend_food_nlp(\n",
    "            diet_pref,\n",
    "            meal_type=meal_type_entry.get(),\n",
    "            food_type=food_type_entry.get(),\n",
    "            person_type=person_type_entry.get(),\n",
    "            diet_type=diet_type_entry.get()\n",
    "        )\n",
    "    elif diet_pref == \"diseased\":\n",
    "        recommendation = recommend_food_nlp(\n",
    "            diet_pref,\n",
    "            type=food_type_entry.get(),\n",
    "            meal_type=meal_type_entry.get(),\n",
    "            disease_type=disease_type_entry.get()\n",
    "        )\n",
    "    else:\n",
    "        messagebox.showerror(\"Error\", \"Invalid diet preference selected.\")\n",
    "        return\n",
    "    \n",
    "    messagebox.showinfo(\"Recommended Food\", recommendation)\n",
    "\n",
    "def update_fields(*args):\n",
    "    if diet_preference.get() == \"normal\":\n",
    "        person_type_label.grid(row=3, column=0, padx=10, pady=5)\n",
    "        person_type_entry.grid(row=3, column=1, padx=10, pady=5)\n",
    "        diet_type_label.grid(row=4, column=0, padx=10, pady=5)\n",
    "        diet_type_entry.grid(row=4, column=1, padx=10, pady=5)\n",
    "        disease_type_label.grid_forget()\n",
    "        disease_type_entry.grid_forget()\n",
    "    elif diet_preference.get() == \"diseased\":\n",
    "        person_type_label.grid_forget()\n",
    "        person_type_entry.grid_forget()\n",
    "        diet_type_label.grid_forget()\n",
    "        diet_type_entry.grid_forget()\n",
    "        disease_type_label.grid(row=3, column=0, padx=10, pady=5)\n",
    "        disease_type_entry.grid(row=3, column=1, padx=10, pady=5)\n",
    "\n",
    "root = tk.Tk()\n",
    "root.title(\"Diet Recommendation System\")\n",
    "\n",
    "\n",
    "diet_preference = tk.StringVar()\n",
    "diet_preference.trace('w', update_fields)\n",
    "diet_label = ttk.Label(root, text=\"Diet Preference:\")\n",
    "diet_label.grid(row=0, column=0, padx=10, pady=5)\n",
    "diet_menu = ttk.Combobox(root, textvariable=diet_preference, values=[\"normal\", \"diseased\"], state=\"readonly\")\n",
    "diet_menu.grid(row=0, column=1, padx=10, pady=5)\n",
    "\n",
    "meal_type_label = ttk.Label(root, text=\"Meal Type:\")\n",
    "meal_type_label.grid(row=1, column=0, padx=10, pady=5)\n",
    "meal_type_entry = ttk.Entry(root)\n",
    "meal_type_entry.grid(row=1, column=1, padx=10, pady=5)\n",
    "\n",
    "food_type_label = ttk.Label(root, text=\"Food Type:\")\n",
    "food_type_label.grid(row=2, column=0, padx=10, pady=5)\n",
    "food_type_entry = ttk.Entry(root)\n",
    "food_type_entry.grid(row=2, column=1, padx=10, pady=5)\n",
    "\n",
    "person_type_label = ttk.Label(root, text=\"Person Type:\")\n",
    "person_type_entry = ttk.Entry(root)\n",
    "diet_type_label = ttk.Label(root, text=\"Diet Type:\")\n",
    "diet_type_entry = ttk.Entry(root)\n",
    "\n",
    "disease_type_label = ttk.Label(root, text=\"Disease Type:\")\n",
    "disease_type_entry = ttk.Entry(root)\n",
    "\n",
    "submit_button = ttk.Button(root, text=\"Get Recommendation\", command=on_submit)\n",
    "submit_button.grid(row=5, column=0, columnspan=2, pady=10)\n",
    "\n",
    "update_fields()\n",
    "root.mainloop()\n"
   ]
  }
 ],
 "metadata": {
  "kernelspec": {
   "display_name": "Python 3",
   "language": "python",
   "name": "python3"
  },
  "language_info": {
   "codemirror_mode": {
    "name": "ipython",
    "version": 3
   },
   "file_extension": ".py",
   "mimetype": "text/x-python",
   "name": "python",
   "nbconvert_exporter": "python",
   "pygments_lexer": "ipython3",
   "version": "3.11.7"
  }
 },
 "nbformat": 4,
 "nbformat_minor": 2
}
